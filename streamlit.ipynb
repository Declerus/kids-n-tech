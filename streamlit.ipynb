{
 "cells": [
  {
   "cell_type": "code",
   "execution_count": 2,
   "id": "6c29ae95-4709-4e04-8d30-0fb74e41645a",
   "metadata": {},
   "outputs": [],
   "source": [
    "import streamlit as st\n",
    "import pandas as pd\n",
    "import numpy as np\n",
    "from PIL import Image\n",
    "import os\n",
    "import requests\n",
    "from tensorflow.keras import datasets\n",
    "from  matplotlib import pyplot as plt\n",
    "import matplotlib.image as mpimg\n",
    "%matplotlib inline"
   ]
  },
  {
   "cell_type": "code",
   "execution_count": 7,
   "id": "da24bf8e-08e7-4295-95e4-7ff3cf9065fb",
   "metadata": {},
   "outputs": [],
   "source": [
    "from tensorflow.keras.backend import expand_dims\n",
    "from tensorflow.keras.utils import to_categorical\n",
    "from tensorflow.keras import layers\n",
    "from tensorflow.keras import models\n",
    "from tensorflow.keras.callbacks import EarlyStopping"
   ]
  },
  {
   "cell_type": "code",
   "execution_count": 3,
   "id": "a571a976-c95a-407c-8ec1-91d989cd59e2",
   "metadata": {
    "tags": []
   },
   "outputs": [],
   "source": [
    "#img = mpimg.imread(_img_path+\"kb_img_2.jpg\")\n",
    "#imgplot = plt.imshow(img)\n",
    "#plt.show();"
   ]
  },
  {
   "cell_type": "code",
   "execution_count": 4,
   "id": "c4e77525-49b9-4445-83ae-a92d258d1238",
   "metadata": {},
   "outputs": [],
   "source": [
    "(X_train, y_train), (X_test, y_test) = datasets.mnist.load_data(path=\"mnist.npz\")"
   ]
  },
  {
   "cell_type": "code",
   "execution_count": 5,
   "id": "7e21c292-adcb-45c5-944b-80d3f7661337",
   "metadata": {
    "jupyter": {
     "source_hidden": true
    },
    "tags": []
   },
   "outputs": [],
   "source": [
    "X_train = X_train / 255\n",
    "X_test = X_test / 255"
   ]
  },
  {
   "cell_type": "code",
   "execution_count": null,
   "id": "939746d0-09d3-477f-8a99-7cef176980bb",
   "metadata": {},
   "outputs": [],
   "source": [
    "X_train = expand_dims(X_train, -1)\n",
    "X_test = expand_dims(X_test, -1)"
   ]
  },
  {
   "cell_type": "code",
   "execution_count": 9,
   "id": "ce647416-0f3b-43af-93d8-40b741fd2c6c",
   "metadata": {},
   "outputs": [],
   "source": [
    "y_train_cat = to_categorical(y_train, num_classes=10)\n",
    "y_test_cat = to_categorical(y_test, num_classes=10)"
   ]
  },
  {
   "cell_type": "code",
   "execution_count": 27,
   "id": "548ef89c-72cd-46b3-bfc4-cf5bf88ed7ba",
   "metadata": {
    "tags": []
   },
   "outputs": [],
   "source": [
    "def initialize_model():\n",
    "\n",
    "    model = models.Sequential()\n",
    "\n",
    "    ### First Convolution & MaxPooling\n",
    "    model.add(layers.Conv2D(6, (3,3), input_shape=(28, 28, 1), activation='relu', padding='same'))\n",
    "    model.add(layers.MaxPool2D(pool_size=(2,2)))\n",
    "    \n",
    "    ### Second Convolution & MaxPooling\n",
    "    model.add(layers.Conv2D(10, (3,3), activation='relu', padding='same'))\n",
    "    model.add(layers.MaxPool2D(pool_size=(2,2)))\n",
    "\n",
    "    ### Flattening\n",
    "    model.add(layers.Flatten(input_shape=(28,28)))\n",
    "\n",
    "    ### One Fully Connected layer - \"Fully Connected\" is equivalent to saying \"Dense\"\n",
    "    model.add(layers.Dense(10, activation='relu'))\n",
    "\n",
    "    ### Last layer - Classification Layer with 10 outputs corresponding to 10 digits\n",
    "    model.add(layers.Dense(10, activation='softmax'))\n",
    "    \n",
    "    ### Model compilation\n",
    "    model.compile(loss='categorical_crossentropy',\n",
    "                  optimizer='adam', \n",
    "                  metrics=['accuracy'])\n",
    "    \n",
    "    return model"
   ]
  },
  {
   "cell_type": "code",
   "execution_count": 28,
   "id": "7c3155a2-9e78-4372-9fcf-63120ac6236c",
   "metadata": {},
   "outputs": [],
   "source": [
    "cnn_model = initialize_model()"
   ]
  },
  {
   "cell_type": "code",
   "execution_count": 29,
   "id": "2b86121d-21f5-4408-844b-4f7a5db099df",
   "metadata": {},
   "outputs": [],
   "source": [
    "cnn_model.compile(optimizer='adam', loss='categorical_crossentropy', metrics=['accuracy'])"
   ]
  },
  {
   "cell_type": "code",
   "execution_count": 30,
   "id": "f2661507-81f8-4bfc-9666-da325b2413e4",
   "metadata": {},
   "outputs": [
    {
     "name": "stdout",
     "output_type": "stream",
     "text": [
      "Epoch 1/5\n",
      "1313/1313 [==============================] - 5s 4ms/step - loss: 0.0784 - accuracy: 0.9762 - val_loss: 0.0924 - val_accuracy: 0.9732\n",
      "Epoch 2/5\n",
      "1313/1313 [==============================] - 5s 4ms/step - loss: 0.0704 - accuracy: 0.9782 - val_loss: 0.0797 - val_accuracy: 0.9762\n",
      "Epoch 3/5\n",
      "1313/1313 [==============================] - 5s 4ms/step - loss: 0.0638 - accuracy: 0.9799 - val_loss: 0.0750 - val_accuracy: 0.9778\n",
      "Epoch 4/5\n",
      "1313/1313 [==============================] - 5s 4ms/step - loss: 0.0571 - accuracy: 0.9819 - val_loss: 0.0804 - val_accuracy: 0.9766\n",
      "Epoch 5/5\n",
      "1313/1313 [==============================] - 5s 4ms/step - loss: 0.0533 - accuracy: 0.9836 - val_loss: 0.0793 - val_accuracy: 0.9776\n"
     ]
    }
   ],
   "source": [
    "es = EarlyStopping(patience = 5)\n",
    "\n",
    "history = model.fit(X_train, \n",
    "                    y_train_cat,\n",
    "                    validation_split = 0.3,\n",
    "                    batch_size = 32,\n",
    "                    epochs = 5,\n",
    "                    callbacks = [es],\n",
    "                    verbose = 1)"
   ]
  },
  {
   "cell_type": "code",
   "execution_count": 17,
   "id": "93a6e90a-bc77-4a84-8bcb-30730a15679e",
   "metadata": {
    "tags": []
   },
   "outputs": [],
   "source": [
    "#plt.imshow(X_test[0], cmap='gray')\n",
    "#plt.show();"
   ]
  },
  {
   "cell_type": "code",
   "execution_count": 31,
   "id": "987f57bc-f65a-427d-a6c1-98ef42f51cfe",
   "metadata": {},
   "outputs": [
    {
     "name": "stdout",
     "output_type": "stream",
     "text": [
      "313/313 [==============================] - 0s 1ms/step\n"
     ]
    }
   ],
   "source": [
    "predictions = model.predict(X_test)"
   ]
  },
  {
   "cell_type": "code",
   "execution_count": 32,
   "id": "5681583a-84fb-43d3-9553-dc61aefbf389",
   "metadata": {},
   "outputs": [
    {
     "name": "stdout",
     "output_type": "stream",
     "text": [
      "1. Prediction array: [1.1820448e-16 2.6195912e-07 2.3853354e-07 1.5155595e-05 6.7809973e-11\n",
      " 2.1619724e-12 1.3888747e-22 9.9998331e-01 1.1518454e-08 1.0939181e-06]\n",
      "2. Label number having highest confidence in prediction array: 7\n",
      "3. Actual label in dataset: [0. 0. 0. 0. 0. 0. 0. 1. 0. 0.]\n"
     ]
    }
   ],
   "source": [
    "print(\"1. Prediction array: %s\" % (predictions[0]))\n",
    "\n",
    "# we will verify that which result for label has highest confidence\n",
    "print(\"2. Label number having highest confidence in prediction array: %s\" % (np.argmax(predictions[0])))\n",
    "\n",
    "# let us verify what is the label in test_labels.\n",
    "print(\"3. Actual label in dataset: %s\" % (y_test_cat[0]))\n"
   ]
  }
 ],
 "metadata": {
  "kernelspec": {
   "display_name": "Python 3 (ipykernel)",
   "language": "python",
   "name": "python3"
  },
  "language_info": {
   "codemirror_mode": {
    "name": "ipython",
    "version": 3
   },
   "file_extension": ".py",
   "mimetype": "text/x-python",
   "name": "python",
   "nbconvert_exporter": "python",
   "pygments_lexer": "ipython3",
   "version": "3.10.6"
  }
 },
 "nbformat": 4,
 "nbformat_minor": 5
}
